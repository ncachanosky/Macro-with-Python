{
 "cells": [
  {
   "cell_type": "markdown",
   "metadata": {},
   "source": [
    "#### [**NICOLAS CACHANOSKY**](http://www.ncachanosky.com) | Department of Economics | Metropolitan State University of Denver | ncachano@msudenver.edu"
   ]
  },
  {
   "cell_type": "markdown",
   "metadata": {},
   "source": [
    "# ENDOGENOUS GROWTH WITH A R&D SECTOR\n",
    "---"
   ]
  },
  {
   "cell_type": "markdown",
   "metadata": {},
   "source": [
    "This note illustrates how to code a R&D growth model in Python. The purpose of the note is to walk through Python applications, not to offer a detailed discussion of the Solow Model or to show best coding practices. The note also assumes familiarity with growth theory and a beginner experience with Python.\n",
    "\n",
    "For a more complete and detailed discussion of Python applications see the material in [Quant Econ](https://quantecon.org/).\n",
    "\n",
    "---"
   ]
  },
  {
   "cell_type": "markdown",
   "metadata": {},
   "source": [
    "## TABLE OF CONTENTS\n",
    "1. [Endogenous growth models](#1.-ENDOGENOUS-GROWTH-MODELS)\n",
    "2. [The R&D growth model](#2.-THE-R&D-GROWTH-MODEL)\n",
    "3. [Solving the model](#3.-SOLVING-THE-MODEL)\n",
    "4. [The steady-state](#4.-THE-STEADY-STATE)\n",
    "5. [The Python code](#5.-THE-PYTHON-CODE)\n",
    "6. [Model stability](#6.-MODEL-STABILITY)"
   ]
  },
  {
   "cell_type": "markdown",
   "metadata": {},
   "source": [
    "## 1. ENDOGENOUS GROWTH MODELS"
   ]
  },
  {
   "cell_type": "markdown",
   "metadata": {},
   "source": [
    "A well-known result of the Solow Model is that growth is *exogenous*, that is, it goes unexplained by the model. Growth (in the long-run) does not depend on the savings rate, but on the growth rate of *technology* ($A$). The growth rate of $A$ is an assumption *given to* the model. Yet, Solow Model provides a number of important insights.\n",
    "\n",
    "Endogenous growth models do not rely on \"exogenous assumptions\" to explain growth. One way to endogeneize growth is by adding a \"production function of technology\" to the model. In this sense, the R&D growth model can be intepreted as an extension of Solow model.\n"
   ]
  },
  {
   "cell_type": "markdown",
   "metadata": {},
   "source": [
    "## 2. THE R&D GROWTH MODEL"
   ]
  },
  {
   "cell_type": "markdown",
   "metadata": {},
   "source": [
    "The model assumes two sectors: (1) production of goods and (2) production of new ideas (technology). Factors of production, capital $(K)$ and labor $(L)$, are split between these two sectors. The model is built in continuous time. Labor grows at constnat rate $n$.\n",
    "\n",
    "### 2.1 THE PRODUCTION OF GOODS\n",
    "\n",
    "Assume a Cobb-Douglas function with constant returns to scale and labor-augmenting technology.\n",
    "\n",
    "\n",
    "\\begin{equation}\n",
    "Y(t) = \\left[(1-a_K)K \\right]^{\\alpha} \\left[A(t) (1-a_L) L(t) \\right]^{1-\\alpha}; \\;   \\alpha \\in (0, 1)\n",
    "\\end{equation}\n",
    "\n",
    "where $a_K$ and $a_L$ represent the share of capital and labor allocated to the production of new ideas. Therefore, $(1-a_K)$ and $(1-a_L)$ represent the share of capital and labor allocated to the production of new goods."
   ]
  },
  {
   "cell_type": "markdown",
   "metadata": {},
   "source": [
    "### 2.2. THE ACCUMULATION OF NEW CAPITAL"
   ]
  },
  {
   "cell_type": "markdown",
   "metadata": {},
   "source": [
    "Similar to Solow model, the accumulation of new capital is an exogenous fixed savings rate $(s)$ of output. For simplicity, assume there is no depreciation.\n",
    "\n",
    "\\begin{equation}\n",
    "    \\dot{K(t)} = s\\cdot Y(t)\n",
    "\\end{equation}"
   ]
  },
  {
   "cell_type": "markdown",
   "metadata": {},
   "source": [
    "### 2.3 THE PRODUCTION OF NEW IDEAS"
   ]
  },
  {
   "cell_type": "markdown",
   "metadata": {},
   "source": [
    "The production of new ideas follows a Cobb-Douglas function that may or may not have constant returns to scale. Whether the returns to scale in the production of new ideas is decreasing, constant, or increasing depends on the assumption of how factors of production interact in the R&D industry. Because this industry prodices **ideas**, the argument of \"replication\" (if you double inputs you double output) does not hold.\n",
    "\n",
    "\\begin{equation}\n",
    "    \\dot{A(t)} = B \\left[a_K K(t) \\right]^{\\beta} \\left[a_l L(t) \\right]^{\\gamma} \\cdot A(t)^{\\theta}; \\; B>0, \\beta\\geq 0, \\gamma\\geq 0\n",
    "\\end{equation}\n",
    "\n",
    "The *dot* on top of $A$ denotes (instantaneous) change of technology and $B$ is a *shift parameters*. The exponent $\\theta$ captures how the accumulated knowledge affects the discovery of **new** ideas. \n",
    "\n",
    "If the more knowledge already discovered makes it more difficulty to discover new ideas, then $\\theta$ is negative. If the accumulated knowledge makes it easier to discover new ideas, then $\\theta$ is larger than one. "
   ]
  },
  {
   "cell_type": "markdown",
   "metadata": {},
   "source": [
    "## 3. SOLVING THE MODEL"
   ]
  },
  {
   "cell_type": "markdown",
   "metadata": {},
   "source": [
    "Solving the model implies finding how the growth rates look in the *steady-state*. Are growth rates constant? Or do they change with time?\n",
    "\n",
    "Let $g_K(t)$ and $g_A(t)$ denote the **growth rates** of capital and technology. Then, we want to study the conditions in which $\\dot{g_K(t)}=\\dot{g_A(t)}=0$. To do this, we need to calculate the growth rates, and then set them constant (set the change in the growth rate equal to zero)."
   ]
  },
  {
   "cell_type": "markdown",
   "metadata": {},
   "source": [
    "### 3.1 THE STEADY-STATE OF CAPITAL"
   ]
  },
  {
   "cell_type": "markdown",
   "metadata": {},
   "source": [
    "We can procede in three steps to find the *steady-state* of capital. First, input the production function (of goods) into the motion function of capital. Second, calculate the growth rate of capital. Third, set the change in the growth equal to zero and \"solve for\" growth of capital in terms of growth of technology. The last step will be useful to plot thedynamics of the model.\n",
    "\n",
    "The growth rates of capital and technology are $g_K(t) \\equiv \\frac{\\dot{K(t)}}{K(t)}$ and $g_A(t) \\equiv \\frac{\\dot{A(t)}}{A(t)}$.\n",
    "\n",
    "\\begin{align}\n",
    "    \\dot{K(t)}                  &= s (1-a_K)^{\\alpha} (1-a_L)^{1-\\alpha} \\cdot K(t)^{\\alpha} A(t)^{1-\\alpha} L(t)^{1-\\alpha} \\\\[5 pt]\n",
    "    g_K(t)                      &= s (1-a_K)^{\\alpha} (1-a_L)^{1-\\alpha} \\left[\\frac{A(t)L(t)}{K(t)}  \\right] \\\\[5 pt]\n",
    "    \\frac{\\dot{g_K(t)}}{g_K(t)} &= (1-\\alpha) \\left[g_A(t) + n - g_K(t) \\right]\n",
    "\\end{align}\n",
    "\n",
    "$K$ will grow if $\\left[g_A(t) + n - g_K(t) \\right] > 0$. Now set $g_K(t) = 0$ and \"solve for\" $g_K(t)$ in terms of $g_A(t)$.\n",
    "\n",
    "\\begin{equation}\n",
    "    g_K(t) = n + g_A(t)\n",
    "\\end{equation}\n",
    "\n",
    "The last line is a simple linear quation with intercept $n$ and slope 1. Also, note that $g_K(t)$ **does not** depend on the savings rate or the other parameters of the production function (of final goods). Similar to Solow model, the growth rate of $K$ equals (in the steady state) the growth rate of population plus the growth rate of technology."
   ]
  },
  {
   "cell_type": "markdown",
   "metadata": {},
   "source": [
    "### 3.2 THE STEADY-STATE OF TECHNOLOGY"
   ]
  },
  {
   "cell_type": "markdown",
   "metadata": {},
   "source": [
    "We can procede in a similar way than we did with capital to find the *steady-state* of technology. First, find the **growth rate** of technology. Then, set the **change** in the growth rate of technology equal to zero and solve for $g_K(t)$ in terms of $g_A(t)$.\n",
    "\n",
    "\\begin{align}\n",
    "    \\dot{A(t)}                  &= B \\left[a_K K(t) \\right]^{\\beta} \\left[a_l L(t) \\right]^{\\gamma} \\cdot A(t)^{\\theta} \\\\[5 pt]\n",
    "    g_A(t)                      &= B \\left[a_K K(t) \\right]^{\\beta} \\left[a_L L(t) \\right]^{\\gamma} \\cdot A(t)^{\\theta - 1} \\\\[5pt]\n",
    "    \\frac{\\dot{g_A(t)}}{g_A(t)} &= \\beta g_K(t) + \\gamma n + (\\theta - 1) g_A(t)\n",
    "\\end{align}\n",
    "\n",
    "$A$ will grow if $\\left[\\beta g_K(t) + \\gamma n + (\\theta - 1) g_A(t) \\right] > 0$. Now, assuming $g_A(t) = 0$:\n",
    "\n",
    "\\begin{equation}\n",
    "    g_K(t) = -\\frac{\\gamma n}{\\beta} + \\frac{(1-\\theta)}{\\beta} g_A(t)\n",
    "\\end{equation}\n",
    "\n",
    "The last line also is a simple linear quation, with intercent $-\\frac{\\gamma n}{\\beta}$ and slope $\\frac{(1-\\theta)}{\\beta}$. Slope is positive *if* $1-\\theta>0$, and the model has en equilibrium if $\\frac{(1-\\theta)}{\\beta}>1$ (see the figure below)."
   ]
  },
  {
   "cell_type": "markdown",
   "metadata": {},
   "source": [
    "## 4. THE STEADY-STATE"
   ]
  },
  {
   "cell_type": "markdown",
   "metadata": {},
   "source": [
    "Section 3 produces two equations with two unknowns.\n",
    "\n",
    "\\begin{align}\n",
    "    g_K(t) &= n + g_A(t) \\\\[5pt]\n",
    "    g_K(t) &= -\\frac{\\gamma n}{\\beta} + \\frac{(1-\\theta)}{\\beta} g_A(t)\n",
    "\\end{align}\n",
    "\n",
    "Sovling this system of equation yields the (constant) growth rates in the *steady-state*.\n",
    "\n",
    "\\begin{align}\n",
    "    g_K(t)^* &= n \\cdot \\frac{\\beta + \\gamma}{1-(\\theta + \\gamma)} + n \\\\[5 pt]\n",
    "    g_A(t)^* &= n \\cdot \\frac{\\beta + \\gamma}{1-(\\theta + \\gamma)}\n",
    "\\end{align}\n",
    "\n",
    "Consider the following:\n",
    "* Note that $g_K(t)^* > g_A(t)^*$\n",
    "* If $n = 0$, then $g_K(t)^* = g_A(t)^* = 0$\n",
    "* Savings rate $(s)$ does not affect long-run growth rates\n",
    "* Neither $a_L$ or $a_K$ affect long-run growth rates\n",
    "\n",
    "To be more precise, this model can be considered a *semi-endogenous* growth model. Long-run growth rates depends on endogenous variables of the model, but also on the exogenous growth rate of population."
   ]
  },
  {
   "cell_type": "markdown",
   "metadata": {},
   "source": [
    "## 5. THE PYTHON CODE\n",
    "\n",
    "We can now plot both saddle-paths $(\\dot{g_A(t)}=0, \\dot{g_K(t)}=0)$ using Python. These are two linear equations. "
   ]
  },
  {
   "cell_type": "code",
   "execution_count": 5,
   "metadata": {},
   "outputs": [
    {
     "data": {
      "image/png": "[encoded data removed]",
      "text/plain": [
       "<Figure size 720x504 with 1 Axes>"
      ]
     },
     "metadata": {},
     "output_type": "display_data"
    }
   ],
   "source": [
    "\"1|IMPORT PACKAGES\"\n",
    "import numpy as np               # Package for scientific computing with Python\n",
    "import matplotlib.pyplot as plt  # Matplotlib is a 2D plotting library\n",
    "\n",
    "\n",
    "\"2|DEFINE PARAMETERS AND ARRAYS\"\n",
    "# Parameters\n",
    "n     = 0.02               # Growth rate of population\n",
    "beta  = 0.50               # Exponent of capital in the production of ideas\n",
    "gamma = 1-beta             # Exponent of labor in the priduction of ideas\n",
    "theta = 0.25               # Exponent of technology in the production of ideas\n",
    "\n",
    "# Arrays\n",
    "gA = np.arange(0, 1, 0.01) # Build an array between 0 and 1 with step size=0.01\n",
    "gK = n + gA\n",
    "\n",
    "\"3|DEFINE AND POPULATE THE SADDLE-PATH FUNCTIONS\" \n",
    "ss_K = n + gA                                    # Saddle path for K\n",
    "ss_A = -(gamma * n)/beta + (1-theta)/beta * gA   # Saddle path for A\n",
    "\n",
    "ss_int = -(gamma * n)/beta                       # Intercept of K saddle-path\n",
    "\n",
    "\n",
    "\"4|EQUILIBRIUM VALUES\"\n",
    "A_star = n * (beta + gamma)/(1 - (theta + gamma))\n",
    "K_star = n + A_star\n",
    "\n",
    "\n",
    "\"5|PLOT THE SADDLE-PATH\"\n",
    "v = [0, gA.max()*0.2, -0.05, gK.max()*0.2]       # Axis range\n",
    "\n",
    "# Build figure\n",
    "plt.figure(figsize=(10, 7))\n",
    "plt.title(\"DYNAMICS OF GROWTH RATES OF CAPITAL AND TECHNOLOGY\")\n",
    "plt.text(-0.01    , v[3]-0.01, r'$g_K(t)$')      # Manually add x-axis label\n",
    "plt.text(v[1]-0.01, -0.01    , r'$g_A(t)$')      # Manually add y-axis label\n",
    "plt.axis(v)\n",
    "plt.box(False)\n",
    "plt.xticks([], [])                               # Hide x-axis ticks\n",
    "plt.yticks([], [])                               # Hide y-axis ticks\n",
    "plt.axvline(0, color=\"k\")                        # Add vertical axis\n",
    "plt.axhline(0, color=\"k\")                        # Add horizontal axis\n",
    "# Add both lines\n",
    "plt.plot(gA, ss_A, \"k-\", label=r'$g_A(t)$')\n",
    "plt.plot(gA, ss_K, \"k-\", label=r'$g_K(t)$')\n",
    "# Add equilibrium mark\n",
    "plt.axvline(A_star, -v[2]/(0.25), (0.05+K_star)/0.25, color=\"k\", ls=\":\")\n",
    "plt.axhline(K_star, 0.0         , A_star/v[1]       , color=\"k\", ls=\":\")\n",
    "# Add reference values\n",
    "plt.text(A_star, -0.01 , r'$g_A(t)^*$', horizontalalignment=\"center\")\n",
    "plt.text(-0.001, K_star, r'$g_K(t)^*$', horizontalalignment=\"right\")\n",
    "plt.text(-0.001, n     , r'$n$'       , horizontalalignment=\"right\")\n",
    "plt.text(-0.001, ss_int, r'$-\\frac{\\gamma n}{\\beta}$',\n",
    "         horizontalalignment=\"right\")\n",
    "# Add function labels\n",
    "plt.text(v[1]-0.03, v[3]-0.02, r'$\\dot{g_A(t)^*}=0$')\n",
    "plt.text(v[1]-0.09, v[3]-0.02, r'$\\dot{g_K(t)^*}=0$')\n",
    "# Build plot\n",
    "plt.show()"
   ]
  },
  {
   "cell_type": "markdown",
   "metadata": {},
   "source": [
    "## 6. MODEL STABILITY\n",
    "\n",
    "This is a stable model. Any starting point outside the *steady-state* will return to equilibrium = $\\left(g_A(t)^*. g_K(t)^* \\right)$. Form sections 3.1 and 3.2, we can follow the model dynamics for $A$ and $K$ the following way:\n",
    "\n",
    "\\begin{align}\n",
    "    g_A(t+1) &= g_K(t) + \\dot{g_K(t)} \\\\[5pt]\n",
    "    g_K(t+1) &= g_A(t) + \\dot{g_A(t)}\\\\[15pt]\n",
    "    g_A(t+1) &= g_K(t) + (1-\\alpha) \\left[g_A(t) + n - g_K(t) \\right] \\\\[5pt]\n",
    "    g_K(t+1) &= g_A(t) + \\beta g_K(t) + \\gamma n + (\\theta - 1)g_A(t)\n",
    "\\end{align}\n",
    "\n",
    "Now set four arbitrary starting points: A (blue), B (green), C (red), D (cyan). These strating points will be located in the four quadrants of the model dynamics plot. From these four stating points, the code performs 75 iterations. The plot shows that the dynamics of strating points A and C remain between the two saddle paths, while starting poitns B and D cross over a saddle path to then approach the *steady-state*."
   ]
  },
  {
   "cell_type": "code",
   "execution_count": 7,
   "metadata": {},
   "outputs": [
    {
     "data": {
      "image/png": "[encoded data removed]",
      "text/plain": [
       "<Figure size 720x504 with 1 Axes>"
      ]
     },
     "metadata": {},
     "output_type": "display_data"
    }
   ],
   "source": [
    "\"1|IMPORT PACKAGES\"\n",
    "import numpy as np               # Package for scientific computing with Python\n",
    "import matplotlib.pyplot as plt  # Matplotlib is a 2D plotting library\n",
    "\n",
    "\n",
    "\"2|DEFINE PARAMETERS AND ARRAYS\"\n",
    "# Parameters\n",
    "n     = 0.02               # Growth rate of population\n",
    "alpha = 0.60               # Exponent of capital in the production of goods\n",
    "beta  = 0.50               # Exponent of capital in the production of ideas\n",
    "gamma = 1-beta             # Exponent of labor in the priduction of ideas\n",
    "theta = 0.25               # Exponent of technology in the production of ideas\n",
    "\n",
    "# Arrays\n",
    "gA = np.arange(0, 1, 0.01) # Build an array between 0 and 1 with step size=0.01\n",
    "gK = n + gA\n",
    "\n",
    "size = np.size(gA)\n",
    "\n",
    "\n",
    "\"3|DEFINE AND POPULATE THE SADDLE-PATH FUNCTIONS\" \n",
    "ss_K = n + gA                                    # Saddle path for K\n",
    "ss_A = -(gamma * n)/beta + (1-theta)/beta * gA   # Saddle path for A\n",
    "\n",
    "\n",
    "\"4|EQUILIBRIUM VALUES\"\n",
    "A_star = n * (beta + gamma)/(1 - (theta + gamma))\n",
    "K_star = n + A_star\n",
    "\n",
    "\n",
    "\"5|STABILITY DYNAMICS\"\n",
    "iterations = 75\n",
    "\n",
    "\" | Starting Poin A (blue)\"\n",
    "# Create arrays to store model dynamics\n",
    "A_gA = np.zeros(iterations)\n",
    "A_gK = np.zeros(iterations)\n",
    "# Set arbitrary initial values\n",
    "A_gA[0] = 0.015                                  \n",
    "A_gK[0] = 0.020                                  \n",
    "\n",
    "for j in range(1, iterations):\n",
    "    A_gA[j] = A_gA[j-1] + beta*A_gK[j-1] + gamma*n + (theta-1)*A_gA[j-1]\n",
    "    A_gK[j] = A_gK[j-1] + (1-alpha)*(A_gA[j-1] + n - A_gK[j-1])\n",
    "\n",
    "\" | Starting Poin B (green)\"\n",
    "# Create arrays to store model dynamics\n",
    "B_gA = np.zeros(iterations)\n",
    "B_gK = np.zeros(iterations)\n",
    "# Set arbitrary initial values\n",
    "B_gA[0] = 0.015\n",
    "B_gK[0] = 0.180\n",
    "\n",
    "for j in range(1, iterations):\n",
    "    B_gA[j] = B_gA[j-1] + beta*B_gK[j-1] + gamma*n + (theta-1)*B_gA[j-1]\n",
    "    B_gK[j] = B_gK[j-1] + (1-alpha)*(B_gA[j-1] + n - B_gK[j-1])\n",
    "\n",
    "\" | Starting Poin C (red)\"\n",
    "# Create arrays to store model dynamics\n",
    "C_gA = np.zeros(iterations)\n",
    "C_gK = np.zeros(iterations)\n",
    "# Set arbitrary initial values\n",
    "C_gA[0] = 0.150\n",
    "C_gK[0] = 0.180\n",
    "\n",
    "for j in range(1, iterations):\n",
    "    C_gA[j] = C_gA[j-1] + beta*C_gK[j-1] + gamma*n + (theta-1)*C_gA[j-1]\n",
    "    C_gK[j] = C_gK[j-1] + (1-alpha)*(C_gA[j-1] + n - C_gK[j-1])\n",
    "\n",
    "\" | Starting Poin D (cyan)\"\n",
    "# Create arrays to store model dynamics\n",
    "D_gA = np.zeros(iterations)\n",
    "D_gK = np.zeros(iterations)\n",
    "# Set arbitrary initial values\n",
    "D_gA[0] = 0.150\n",
    "D_gK[0] = 0.020\n",
    "\n",
    "for j in range(1, iterations):\n",
    "    D_gA[j] = D_gA[j-1] + beta*D_gK[j-1] + gamma*n + (theta-1)*D_gA[j-1]\n",
    "    D_gK[j] = D_gK[j-1] + (1-alpha)*(D_gA[j-1] + n - D_gK[j-1])\n",
    "\n",
    "\n",
    "\"5|PLOT THE SADDLE-PATH\"\n",
    "v = [0, gA.max()*0.2, -0.05, gK.max()*0.2]       # Axis range\n",
    "\n",
    "# Build figure\n",
    "plt.figure(figsize=(10, 7))\n",
    "plt.title(\"MODEL STABILITY\")\n",
    "plt.text(-0.01    , v[3]-0.01, r'$g_K(t)$')      # Manually add x-axis label\n",
    "plt.text(v[1]-0.01, -0.01    , r'$g_A(t)$')      # Manually add y-axis label\n",
    "plt.axis(v)\n",
    "plt.box(False)\n",
    "plt.xticks([], [])                               # Hide x-axis ticks\n",
    "plt.yticks([], [])                               # Hide y-axis ticks\n",
    "plt.axvline(0, color=\"k\")                        # Add vertical axis\n",
    "plt.axhline(0, color=\"k\")                        # Add horizontal axis\n",
    "# Add both lines\n",
    "plt.plot(gA, ss_A, \"k-\", label=r'$g_A(t)$')\n",
    "plt.plot(gA, ss_K, \"k-\", label=r'$g_K(t)$')\n",
    "# Add equilibrium mark\n",
    "plt.axvline(A_star, -v[2]/(0.25), (0.05+K_star)/0.25, color=\"k\", ls=\":\")\n",
    "plt.axhline(K_star, 0.0         , A_star/v[1]       , color=\"k\", ls=\":\")\n",
    "# Add reference values\n",
    "plt.text(A_star, -0.01 , r'$g_A(t)^*$', horizontalalignment=\"center\")\n",
    "plt.text(-0.001, K_star, r'$g_K(t)^*$', horizontalalignment=\"right\")\n",
    "# Add function labels\n",
    "plt.text(v[1]-0.03, v[3]-0.02, r'$\\dot{g_A(t)^*}=0$')\n",
    "plt.text(v[1]-0.09, v[3]-0.02, r'$\\dot{g_K(t)^*}=0$')\n",
    "# Model dynamics\n",
    "plt.plot(A_gA[0], A_gK[0], \"bo\")\n",
    "plt.plot(A_gA   , A_gK   , \"b:\")\n",
    "plt.plot(B_gA[0], B_gK[0], \"go\")\n",
    "plt.plot(B_gA   , B_gK   , \"g:\")\n",
    "plt.plot(C_gA[0], C_gK[0], \"ro\")\n",
    "plt.plot(C_gA   , C_gK   , \"r:\")\n",
    "plt.plot(D_gA[0], D_gK[0], \"co\")\n",
    "plt.plot(D_gA   , D_gK   , \"c:\")\n",
    "plt.text(A_gA[0]-0.005, A_gK[0]      , \"A\", color=\"b\")\n",
    "plt.text(B_gA[0]-0.005, B_gK[0]      , \"B\", color=\"g\")\n",
    "plt.text(C_gA[0]      , C_gK[0]+0.005, \"C\", color=\"r\")\n",
    "plt.text(D_gA[0]+0.005, D_gK[0]      , \"D\", color=\"c\")\n",
    "# Arrows\n",
    "plt.arrow(A_gA[0], A_gK[0],  0.005, 0    , color=\"b\")\n",
    "plt.arrow(A_gA[0], A_gK[0],  0    , 0.005, color=\"b\")\n",
    "plt.arrow(B_gA[0], B_gK[0],  0.005, 0    , color=\"g\")\n",
    "plt.arrow(B_gA[0], B_gK[0],  0    ,-0.005, color=\"g\")\n",
    "plt.arrow(C_gA[0], C_gK[0], -0.005, 0    , color=\"r\")\n",
    "plt.arrow(C_gA[0], C_gK[0],  0    ,-0.005, color=\"r\")\n",
    "plt.arrow(D_gA[0], D_gK[0], -0.005, 0    , color=\"c\")\n",
    "plt.arrow(D_gA[0], D_gK[0],  0    , 0.005, color=\"c\")\n",
    "# Build plot\n",
    "plt.show()"
   ]
  }
 ],
 "metadata": {
  "kernelspec": {
   "display_name": "Python 3",
   "language": "python",
   "name": "python3"
  },
  "language_info": {
   "codemirror_mode": {
    "name": "ipython",
    "version": 3
   },
   "file_extension": ".py",
   "mimetype": "text/x-python",
   "name": "python",
   "nbconvert_exporter": "python",
   "pygments_lexer": "ipython3",
   "version": "3.8.8"
  }
 },
 "nbformat": 4,
 "nbformat_minor": 4
}
