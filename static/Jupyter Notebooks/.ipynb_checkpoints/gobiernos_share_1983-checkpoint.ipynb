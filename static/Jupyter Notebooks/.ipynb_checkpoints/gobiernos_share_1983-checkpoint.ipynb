{
 "cells": [
  {
   "cell_type": "code",
   "execution_count": 2,
   "id": "patent-penalty",
   "metadata": {},
   "outputs": [],
   "source": [
    "\"|IMPORT PACKAGES|\"\n",
    "import pandas             as pd\n",
    "import numpy              as np\n",
    "import datetime\n",
    "from   bokeh.plotting     import show, figure, output_file, save\n",
    "from   bokeh.io           import show, output_notebook, curdoc, export_png\n",
    "from   bokeh.models       import ColumnDataSource,LinearAxis, Range1d, NumeralTickFormatter, LabelSet, Label, BoxAnnotation, DatetimeTickFormatter\n",
    "from   bokeh.models.tools import HoverTool\n",
    "from   bokeh.transform    import dodge, cumsum\n",
    "from   math               import pi"
   ]
  },
  {
   "cell_type": "code",
   "execution_count": 7,
   "id": "identified-revision",
   "metadata": {},
   "outputs": [],
   "source": [
    "X_1983 = {'PJ'          : 69.0,\n",
    "          'UCR'         : 20.3,\n",
    "          'Gob. Militar':  0.0,\n",
    "          'Cambiemos'   : 10.7}\n",
    "\n",
    "data = pd.Series(X_1983).reset_index(name='value')\n",
    "data.columns = ['GOBIERNO','SHARE']\n",
    "data['ANGLE'] = data['SHARE']/data['SHARE'].sum() *2*pi\n",
    "data['COLOR'] = ['blue', 'red', 'green', 'gold']\n",
    "\n",
    "p = figure(title        = \"EL HUB ECONÓMICO | TIEMPO EN PRESIDENCIA POR PARTIDO POLÍTICO DESDE 1983\",\n",
    "           plot_height  = 400 ,\n",
    "           plot_width   = 700)\n",
    "\n",
    "p.wedge(x=0       ,\n",
    "        y=1       ,\n",
    "        radius=0.4,\n",
    "        start_angle  = cumsum('ANGLE', include_zero=True),\n",
    "        end_angle    = cumsum('ANGLE')                   ,\n",
    "        line_color   = \"white\"                           ,\n",
    "        fill_color   = 'COLOR'                           ,\n",
    "        legend_field = 'GOBIERNO'                        ,\n",
    "        fill_alpha   = 0.75                              ,\n",
    "        source=data)\n",
    "\n",
    "p.add_tools(HoverTool(tooltips = [(\"Gobierno\",\"@GOBIERNO\"),(\"Presidencia (%)\", \"@SHARE{0.0}\")]))\n",
    "\n",
    "#LEGEND\n",
    "p.axis.axis_label=None\n",
    "p.axis.visible=False\n",
    "p.grid.grid_line_color = None\n",
    "p.legend.location = \"center_right\"\n",
    "show(p)"
   ]
  },
  {
   "cell_type": "code",
   "execution_count": null,
   "id": "twenty-spelling",
   "metadata": {},
   "outputs": [],
   "source": [
    "\"|EXPORT .PNG FILE|\"\n",
    "\n",
    "export_png(p, filename=\"gobiernos_share_1983.png\")"
   ]
  },
  {
   "cell_type": "code",
   "execution_count": null,
   "id": "latter-asian",
   "metadata": {},
   "outputs": [],
   "source": [
    "\"|CREATE HTML FILE|\"\n",
    "\n",
    "output_file(filename=\"gobiernos_share_1983.html\", title=\"Tiempo en presidencia (desde 1983)\")\n",
    "save(p)"
   ]
  },
  {
   "cell_type": "code",
   "execution_count": 6,
   "id": "informal-hacker",
   "metadata": {},
   "outputs": [],
   "source": [
    "\"|CREATE JSON FILE|\"\n",
    "import json\n",
    "import bokeh.embed\n",
    "\n",
    "from bokeh.embed import json_item\n",
    "\n",
    "j = json.dumps(json_item(p, \"gobiernos_share_1983\"))\n",
    "with open(\"gobiernos_share_1983.json\", \"w\") as fp:\n",
    "    json.dump(j, fp)"
   ]
  }
 ],
 "metadata": {
  "kernelspec": {
   "display_name": "Python 3",
   "language": "python",
   "name": "python3"
  },
  "language_info": {
   "codemirror_mode": {
    "name": "ipython",
    "version": 3
   },
   "file_extension": ".py",
   "mimetype": "text/x-python",
   "name": "python",
   "nbconvert_exporter": "python",
   "pygments_lexer": "ipython3",
   "version": "3.8.8"
  }
 },
 "nbformat": 4,
 "nbformat_minor": 5
}
