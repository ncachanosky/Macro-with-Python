{
 "cells": [
  {
   "cell_type": "code",
   "execution_count": 1,
   "id": "foster-feeling",
   "metadata": {},
   "outputs": [],
   "source": [
    "\"|IMPORT PACKAGES|\"\n",
    "import pandas             as pd\n",
    "import datetime\n",
    "from   bokeh.plotting     import show, figure, output_file, save\n",
    "from   bokeh.io           import show, output_notebook, curdoc, export_png\n",
    "from   bokeh.models       import ColumnDataSource,LinearAxis, Range1d, NumeralTickFormatter, LabelSet, Label, BoxAnnotation, DatetimeTickFormatter\n",
    "from   bokeh.models.tools import HoverTool"
   ]
  },
  {
   "cell_type": "code",
   "execution_count": 2,
   "id": "printable-validation",
   "metadata": {},
   "outputs": [],
   "source": [
    "\"|IMPORT DATA|\"\n",
    "path = r'https://github.com/ncachanosky/research/blob/master/Economic%20Series/'\n",
    "file = r'Resumen%20Estadistico%20-%20Argentina.xlsx?raw=true'\n",
    "IO   = path + file\n",
    "\n",
    "sheet = 'MONTHLY'\n",
    "\n",
    "data = pd.read_excel(IO, sheet_name = sheet, usecols=\"B, IU:IW\", skiprows=2, nrows=396, engine='openpyxl') # Be patient...\n",
    "\n",
    "data = data.dropna()\n",
    "\n",
    "data = data.rename(columns={\"Deuda Externa\":\"DEUDA_E\"})\n",
    "data = data.rename(columns={\"Deuda Interna\":\"DEUDA_I\"})\n",
    "data = data.rename(columns={\"TOTAL DEUDA\":\"DEUDA_T\"})"
   ]
  },
  {
   "cell_type": "code",
   "execution_count": 3,
   "id": "sufficient-counter",
   "metadata": {},
   "outputs": [
    {
     "data": {
      "text/html": [
       "<div>\n",
       "<style scoped>\n",
       "    .dataframe tbody tr th:only-of-type {\n",
       "        vertical-align: middle;\n",
       "    }\n",
       "\n",
       "    .dataframe tbody tr th {\n",
       "        vertical-align: top;\n",
       "    }\n",
       "\n",
       "    .dataframe thead th {\n",
       "        text-align: right;\n",
       "    }\n",
       "</style>\n",
       "<table border=\"1\" class=\"dataframe\">\n",
       "  <thead>\n",
       "    <tr style=\"text-align: right;\">\n",
       "      <th></th>\n",
       "      <th>MONTH</th>\n",
       "      <th>DEUDA_E</th>\n",
       "      <th>DEUDA_I</th>\n",
       "      <th>DEUDA_T</th>\n",
       "    </tr>\n",
       "  </thead>\n",
       "  <tbody>\n",
       "    <tr>\n",
       "      <th>383</th>\n",
       "      <td>2019-12-31</td>\n",
       "      <td>155.871719</td>\n",
       "      <td>164.757690</td>\n",
       "      <td>320.629409</td>\n",
       "    </tr>\n",
       "    <tr>\n",
       "      <th>386</th>\n",
       "      <td>2020-03-31</td>\n",
       "      <td>153.306434</td>\n",
       "      <td>167.652453</td>\n",
       "      <td>320.958887</td>\n",
       "    </tr>\n",
       "    <tr>\n",
       "      <th>389</th>\n",
       "      <td>2020-06-30</td>\n",
       "      <td>153.340000</td>\n",
       "      <td>167.700000</td>\n",
       "      <td>321.040000</td>\n",
       "    </tr>\n",
       "    <tr>\n",
       "      <th>392</th>\n",
       "      <td>2020-09-30</td>\n",
       "      <td>151.300000</td>\n",
       "      <td>170.800000</td>\n",
       "      <td>322.100000</td>\n",
       "    </tr>\n",
       "    <tr>\n",
       "      <th>395</th>\n",
       "      <td>2020-12-31</td>\n",
       "      <td>158.100000</td>\n",
       "      <td>171.700000</td>\n",
       "      <td>329.800000</td>\n",
       "    </tr>\n",
       "  </tbody>\n",
       "</table>\n",
       "</div>"
      ],
      "text/plain": [
       "         MONTH     DEUDA_E     DEUDA_I     DEUDA_T\n",
       "383 2019-12-31  155.871719  164.757690  320.629409\n",
       "386 2020-03-31  153.306434  167.652453  320.958887\n",
       "389 2020-06-30  153.340000  167.700000  321.040000\n",
       "392 2020-09-30  151.300000  170.800000  322.100000\n",
       "395 2020-12-31  158.100000  171.700000  329.800000"
      ]
     },
     "execution_count": 3,
     "metadata": {},
     "output_type": "execute_result"
    }
   ],
   "source": [
    "\"|CHECK DATA|\"\n",
    "data.tail()"
   ]
  },
  {
   "cell_type": "code",
   "execution_count": 4,
   "id": "automotive-roommate",
   "metadata": {},
   "outputs": [
    {
     "ename": "ValueError",
     "evalue": "failed to validate Figure(id='1003', ...).toolbar_location: expected either None or a value of type Enum('above', 'below', 'left', 'right'), got 'RIGHT'",
     "output_type": "error",
     "traceback": [
      "\u001b[1;31m---------------------------------------------------------------------------\u001b[0m",
      "\u001b[1;31mValueError\u001b[0m                                Traceback (most recent call last)",
      "\u001b[1;32m<ipython-input-4-1ef44160e1a7>\u001b[0m in \u001b[0;36m<module>\u001b[1;34m\u001b[0m\n\u001b[0;32m     11\u001b[0m \u001b[1;33m\u001b[0m\u001b[0m\n\u001b[0;32m     12\u001b[0m \u001b[0mp\u001b[0m\u001b[1;33m.\u001b[0m\u001b[0mxaxis\u001b[0m\u001b[1;33m[\u001b[0m\u001b[1;36m0\u001b[0m\u001b[1;33m]\u001b[0m\u001b[1;33m.\u001b[0m\u001b[0mformatter\u001b[0m \u001b[1;33m=\u001b[0m \u001b[0mDatetimeTickFormatter\u001b[0m\u001b[1;33m(\u001b[0m\u001b[0mmonths\u001b[0m\u001b[1;33m=\u001b[0m\u001b[1;34m\"%b %Y\"\u001b[0m\u001b[1;33m)\u001b[0m\u001b[1;33m\u001b[0m\u001b[1;33m\u001b[0m\u001b[0m\n\u001b[1;32m---> 13\u001b[1;33m \u001b[0mp\u001b[0m\u001b[1;33m.\u001b[0m\u001b[0mtoolbar_location\u001b[0m \u001b[1;33m=\u001b[0m \u001b[1;34m\"RIGHT\"\u001b[0m\u001b[1;33m\u001b[0m\u001b[1;33m\u001b[0m\u001b[0m\n\u001b[0m\u001b[0;32m     14\u001b[0m \u001b[0mp\u001b[0m\u001b[1;33m.\u001b[0m\u001b[0mtoolbar\u001b[0m\u001b[1;33m.\u001b[0m\u001b[0mautohide\u001b[0m \u001b[1;33m=\u001b[0m \u001b[1;32mTrue\u001b[0m\u001b[1;33m\u001b[0m\u001b[1;33m\u001b[0m\u001b[0m\n\u001b[0;32m     15\u001b[0m \u001b[1;33m\u001b[0m\u001b[0m\n",
      "\u001b[1;32m~\\anaconda3\\lib\\site-packages\\bokeh\\core\\has_props.py\u001b[0m in \u001b[0;36m__setattr__\u001b[1;34m(self, name, value)\u001b[0m\n\u001b[0;32m    295\u001b[0m \u001b[1;33m\u001b[0m\u001b[0m\n\u001b[0;32m    296\u001b[0m         \u001b[1;32mif\u001b[0m \u001b[0mname\u001b[0m \u001b[1;32min\u001b[0m \u001b[0mprops\u001b[0m \u001b[1;32mor\u001b[0m \u001b[1;33m(\u001b[0m\u001b[0mdescriptor\u001b[0m \u001b[1;32mis\u001b[0m \u001b[1;32mnot\u001b[0m \u001b[1;32mNone\u001b[0m \u001b[1;32mand\u001b[0m \u001b[0mdescriptor\u001b[0m\u001b[1;33m.\u001b[0m\u001b[0mfset\u001b[0m \u001b[1;32mis\u001b[0m \u001b[1;32mnot\u001b[0m \u001b[1;32mNone\u001b[0m\u001b[1;33m)\u001b[0m\u001b[1;33m:\u001b[0m\u001b[1;33m\u001b[0m\u001b[1;33m\u001b[0m\u001b[0m\n\u001b[1;32m--> 297\u001b[1;33m             \u001b[0msuper\u001b[0m\u001b[1;33m(\u001b[0m\u001b[1;33m)\u001b[0m\u001b[1;33m.\u001b[0m\u001b[0m__setattr__\u001b[0m\u001b[1;33m(\u001b[0m\u001b[0mname\u001b[0m\u001b[1;33m,\u001b[0m \u001b[0mvalue\u001b[0m\u001b[1;33m)\u001b[0m\u001b[1;33m\u001b[0m\u001b[1;33m\u001b[0m\u001b[0m\n\u001b[0m\u001b[0;32m    298\u001b[0m         \u001b[1;32melse\u001b[0m\u001b[1;33m:\u001b[0m\u001b[1;33m\u001b[0m\u001b[1;33m\u001b[0m\u001b[0m\n\u001b[0;32m    299\u001b[0m             \u001b[0mmatches\u001b[0m\u001b[1;33m,\u001b[0m \u001b[0mtext\u001b[0m \u001b[1;33m=\u001b[0m \u001b[0mdifflib\u001b[0m\u001b[1;33m.\u001b[0m\u001b[0mget_close_matches\u001b[0m\u001b[1;33m(\u001b[0m\u001b[0mname\u001b[0m\u001b[1;33m.\u001b[0m\u001b[0mlower\u001b[0m\u001b[1;33m(\u001b[0m\u001b[1;33m)\u001b[0m\u001b[1;33m,\u001b[0m \u001b[0mprops\u001b[0m\u001b[1;33m)\u001b[0m\u001b[1;33m,\u001b[0m \u001b[1;34m\"similar\"\u001b[0m\u001b[1;33m\u001b[0m\u001b[1;33m\u001b[0m\u001b[0m\n",
      "\u001b[1;32m~\\anaconda3\\lib\\site-packages\\bokeh\\core\\property\\descriptors.py\u001b[0m in \u001b[0;36m__set__\u001b[1;34m(self, obj, value, setter)\u001b[0m\n\u001b[0;32m    550\u001b[0m             \u001b[1;32mraise\u001b[0m \u001b[0mRuntimeError\u001b[0m\u001b[1;33m(\u001b[0m\u001b[1;34mf\"{class_name}.{self.name} is a readonly property\"\u001b[0m\u001b[1;33m)\u001b[0m\u001b[1;33m\u001b[0m\u001b[1;33m\u001b[0m\u001b[0m\n\u001b[0;32m    551\u001b[0m \u001b[1;33m\u001b[0m\u001b[0m\n\u001b[1;32m--> 552\u001b[1;33m         \u001b[0mself\u001b[0m\u001b[1;33m.\u001b[0m\u001b[0m_internal_set\u001b[0m\u001b[1;33m(\u001b[0m\u001b[0mobj\u001b[0m\u001b[1;33m,\u001b[0m \u001b[0mvalue\u001b[0m\u001b[1;33m,\u001b[0m \u001b[0msetter\u001b[0m\u001b[1;33m=\u001b[0m\u001b[0msetter\u001b[0m\u001b[1;33m)\u001b[0m\u001b[1;33m\u001b[0m\u001b[1;33m\u001b[0m\u001b[0m\n\u001b[0m\u001b[0;32m    553\u001b[0m \u001b[1;33m\u001b[0m\u001b[0m\n\u001b[0;32m    554\u001b[0m     \u001b[1;32mdef\u001b[0m \u001b[0m__delete__\u001b[0m\u001b[1;33m(\u001b[0m\u001b[0mself\u001b[0m\u001b[1;33m,\u001b[0m \u001b[0mobj\u001b[0m\u001b[1;33m)\u001b[0m\u001b[1;33m:\u001b[0m\u001b[1;33m\u001b[0m\u001b[1;33m\u001b[0m\u001b[0m\n",
      "\u001b[1;32m~\\anaconda3\\lib\\site-packages\\bokeh\\core\\property\\descriptors.py\u001b[0m in \u001b[0;36m_internal_set\u001b[1;34m(self, obj, value, hint, setter)\u001b[0m\n\u001b[0;32m    782\u001b[0m \u001b[1;33m\u001b[0m\u001b[0m\n\u001b[0;32m    783\u001b[0m         \"\"\"\n\u001b[1;32m--> 784\u001b[1;33m         \u001b[0mvalue\u001b[0m \u001b[1;33m=\u001b[0m \u001b[0mself\u001b[0m\u001b[1;33m.\u001b[0m\u001b[0mproperty\u001b[0m\u001b[1;33m.\u001b[0m\u001b[0mprepare_value\u001b[0m\u001b[1;33m(\u001b[0m\u001b[0mobj\u001b[0m\u001b[1;33m,\u001b[0m \u001b[0mself\u001b[0m\u001b[1;33m.\u001b[0m\u001b[0mname\u001b[0m\u001b[1;33m,\u001b[0m \u001b[0mvalue\u001b[0m\u001b[1;33m)\u001b[0m\u001b[1;33m\u001b[0m\u001b[1;33m\u001b[0m\u001b[0m\n\u001b[0m\u001b[0;32m    785\u001b[0m         \u001b[0mold\u001b[0m \u001b[1;33m=\u001b[0m \u001b[0mself\u001b[0m\u001b[1;33m.\u001b[0m\u001b[0m_get\u001b[0m\u001b[1;33m(\u001b[0m\u001b[0mobj\u001b[0m\u001b[1;33m)\u001b[0m\u001b[1;33m\u001b[0m\u001b[1;33m\u001b[0m\u001b[0m\n\u001b[0;32m    786\u001b[0m         \u001b[0mself\u001b[0m\u001b[1;33m.\u001b[0m\u001b[0m_real_set\u001b[0m\u001b[1;33m(\u001b[0m\u001b[0mobj\u001b[0m\u001b[1;33m,\u001b[0m \u001b[0mold\u001b[0m\u001b[1;33m,\u001b[0m \u001b[0mvalue\u001b[0m\u001b[1;33m,\u001b[0m \u001b[0mhint\u001b[0m\u001b[1;33m=\u001b[0m\u001b[0mhint\u001b[0m\u001b[1;33m,\u001b[0m \u001b[0msetter\u001b[0m\u001b[1;33m=\u001b[0m\u001b[0msetter\u001b[0m\u001b[1;33m)\u001b[0m\u001b[1;33m\u001b[0m\u001b[1;33m\u001b[0m\u001b[0m\n",
      "\u001b[1;32m~\\anaconda3\\lib\\site-packages\\bokeh\\core\\property\\bases.py\u001b[0m in \u001b[0;36mprepare_value\u001b[1;34m(self, owner, name, value)\u001b[0m\n\u001b[0;32m    348\u001b[0m         \u001b[1;32melse\u001b[0m\u001b[1;33m:\u001b[0m\u001b[1;33m\u001b[0m\u001b[1;33m\u001b[0m\u001b[0m\n\u001b[0;32m    349\u001b[0m             \u001b[0mobj_repr\u001b[0m \u001b[1;33m=\u001b[0m \u001b[0mowner\u001b[0m \u001b[1;32mif\u001b[0m \u001b[0misinstance\u001b[0m\u001b[1;33m(\u001b[0m\u001b[0mowner\u001b[0m\u001b[1;33m,\u001b[0m \u001b[0mHasProps\u001b[0m\u001b[1;33m)\u001b[0m \u001b[1;32melse\u001b[0m \u001b[0mowner\u001b[0m\u001b[1;33m.\u001b[0m\u001b[0m__name__\u001b[0m\u001b[1;33m\u001b[0m\u001b[1;33m\u001b[0m\u001b[0m\n\u001b[1;32m--> 350\u001b[1;33m             \u001b[1;32mraise\u001b[0m \u001b[0mValueError\u001b[0m\u001b[1;33m(\u001b[0m\u001b[1;34mf\"failed to validate {obj_repr}.{name}: {error}\"\u001b[0m\u001b[1;33m)\u001b[0m\u001b[1;33m\u001b[0m\u001b[1;33m\u001b[0m\u001b[0m\n\u001b[0m\u001b[0;32m    351\u001b[0m \u001b[1;33m\u001b[0m\u001b[0m\n\u001b[0;32m    352\u001b[0m         \u001b[1;32mif\u001b[0m \u001b[0misinstance\u001b[0m\u001b[1;33m(\u001b[0m\u001b[0mowner\u001b[0m\u001b[1;33m,\u001b[0m \u001b[0mHasProps\u001b[0m\u001b[1;33m)\u001b[0m\u001b[1;33m:\u001b[0m\u001b[1;33m\u001b[0m\u001b[1;33m\u001b[0m\u001b[0m\n",
      "\u001b[1;31mValueError\u001b[0m: failed to validate Figure(id='1003', ...).toolbar_location: expected either None or a value of type Enum('above', 'below', 'left', 'right'), got 'RIGHT'"
     ]
    }
   ],
   "source": [
    "\"|BUILD PLOT|\"\n",
    "\n",
    "cds = ColumnDataSource(data)\n",
    "\n",
    "#BUILD FIGURE\n",
    "p = figure(title = \"EL HUB ECONÓMICO | DEUDA DE LA ADMINISTRACIÓN CENTRAL\",\n",
    "           x_axis_label = \"Año\",\n",
    "           y_axis_label = \"Miles de millones de US$\", \n",
    "           plot_height  = 400,\n",
    "           plot_width   = 700)\n",
    "\n",
    "p.xaxis[0].formatter = DatetimeTickFormatter(months=\"%b %Y\")\n",
    "p.toolbar_location = \"right\"\n",
    "p.toolbar.autohide = True\n",
    "\n",
    "#AXIS 1 (LEFT)\n",
    "p1 = p.line(\"MONTH\", \"DEUDA_T\", color=\"blue\", line_alpha=0.50, width=4, legend_label=\"Deuda total\"    , muted_alpha=0.20, source=cds)\n",
    "p2 = p.line(\"MONTH\", \"DEUDA_E\", color=\"red\" , line_alpha=0.50, width=2, legend_label=\"Deuda externa\"  , muted_alpha=0.20, source=cds)\n",
    "p3 = p.line(\"MONTH\", \"DEUDA_I\", color=\"grey\", line_alpha=0.50, width=2, legend_label=\"Deuda domestica\", muted_alpha=0.20, source=cds)\n",
    "\n",
    "p.add_tools(HoverTool(renderers=[p1], tooltips = [(\"Deuda total\"    , \"@DEUDA_T\")], mode=\"vline\"))\n",
    "p.add_tools(HoverTool(renderers=[p2], tooltips = [(\"Deuda externa\"  , \"@DEUDA_E\")], mode=\"vline\"))\n",
    "p.add_tools(HoverTool(renderers=[p3], tooltips = [(\"Deuda doméstica\", \"@DEUDA_I\")], mode=\"vline\"))\n",
    "\n",
    "\n",
    "#LEGEND\n",
    "p.legend.location     = \"top_left\"\n",
    "p.legend.orientation  = \"horizontal\"\n",
    "p.legend.click_policy = \"mute\"\n",
    "show(p)"
   ]
  },
  {
   "cell_type": "code",
   "execution_count": null,
   "id": "confirmed-buffalo",
   "metadata": {},
   "outputs": [],
   "source": [
    "\"|EXPORT .PNG FILE|\"\n",
    "\n",
    "export_png(p, filename=\"deuda_publica.png\")"
   ]
  },
  {
   "cell_type": "code",
   "execution_count": null,
   "id": "normal-shelter",
   "metadata": {},
   "outputs": [],
   "source": [
    "\"|# CREATE HTML FILE|\"\n",
    "\n",
    "output_file(filename=\"deuda_publica.html\", title=\"Deuda pública\")\n",
    "save(p)"
   ]
  },
  {
   "cell_type": "code",
   "execution_count": 56,
   "id": "controlled-speech",
   "metadata": {},
   "outputs": [],
   "source": [
    "\"|CREATE JSON FILE|\"\n",
    "import json\n",
    "import bokeh.embed\n",
    "\n",
    "from bokeh.embed import json_item\n",
    "\n",
    "j = json.dumps(json_item(p, \"deuda_publica\"))\n",
    "with open(\"deuda_publica.json\", \"w\") as fp:\n",
    "    json.dump(j, fp)"
   ]
  },
  {
   "cell_type": "code",
   "execution_count": null,
   "id": "short-spanish",
   "metadata": {},
   "outputs": [],
   "source": []
  }
 ],
 "metadata": {
  "kernelspec": {
   "display_name": "Python 3",
   "language": "python",
   "name": "python3"
  },
  "language_info": {
   "codemirror_mode": {
    "name": "ipython",
    "version": 3
   },
   "file_extension": ".py",
   "mimetype": "text/x-python",
   "name": "python",
   "nbconvert_exporter": "python",
   "pygments_lexer": "ipython3",
   "version": "3.8.8"
  }
 },
 "nbformat": 4,
 "nbformat_minor": 5
}
